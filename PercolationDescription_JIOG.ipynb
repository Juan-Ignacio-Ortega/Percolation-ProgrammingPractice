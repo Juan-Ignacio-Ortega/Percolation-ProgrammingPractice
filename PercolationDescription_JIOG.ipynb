{
  "nbformat": 4,
  "nbformat_minor": 0,
  "metadata": {
    "colab": {
      "name": "PercolationDescription_JIOG.ipynb",
      "provenance": [],
      "collapsed_sections": []
    },
    "kernelspec": {
      "name": "python3",
      "display_name": "Python 3"
    },
    "language_info": {
      "name": "python"
    },
    "accelerator": "GPU"
  },
  "cells": [
    {
      "cell_type": "markdown",
      "source": [
        "## Metodología"
      ],
      "metadata": {
        "id": "fRQTYJwbMrA0"
      }
    },
    {
      "cell_type": "markdown",
      "source": [
        "Generamos una función para graficar el status de la coladera."
      ],
      "metadata": {
        "id": "mADY5cKXNFL_"
      }
    },
    {
      "cell_type": "code",
      "source": [
        "def graficar(matrix):\n",
        "  import matplotlib.pyplot as plt\n",
        "  import matplotlib.colors as cls\n",
        "  from IPython import display\n",
        "\n",
        "  fig, ax = plt.subplots()\n",
        "  colormap = cls.ListedColormap([\"black\", \"red\", \"white\"])\n",
        "  im = ax.imshow(matrix, cmap = colormap)\n",
        "  ax.set_xticks([0.5, 1.5, 2.5, 3.5, 4.5, 5.5, 6.5, 7.5, 8.5], minor = True)\n",
        "  ax.set_yticks([0.5, 1.5, 2.5, 3.5, 4.5, 5.5, 6.5, 7.5, 8.5], minor = True)\n",
        "  ax.grid(which='minor', color='black', linestyle='-', linewidth = 1)\n",
        "  fig.tight_layout()\n",
        "  display.clear_output(wait=True)\n",
        "  plt.show()"
      ],
      "metadata": {
        "id": "3JicuckAL-Cq"
      },
      "execution_count": null,
      "outputs": []
    },
    {
      "cell_type": "markdown",
      "source": [
        "Además, se realiza una función para reinicar el status de la coladera."
      ],
      "metadata": {
        "id": "IXEsz8wWR_o_"
      }
    },
    {
      "cell_type": "code",
      "source": [
        "def reiniciar(matrix, longitm):\n",
        "  import numpy as np\n",
        "\n",
        "  iterator = 0\n",
        "  while iterator <= (longitm - 1):\n",
        "    positions = []\n",
        "    positions.append(np.where(matrix[iterator] == 1))\n",
        "    for element in positions:\n",
        "      matrix[iterator][element] = 2\n",
        "    iterator += 1"
      ],
      "metadata": {
        "id": "j8c8FEYDQXZk"
      },
      "execution_count": null,
      "outputs": []
    },
    {
      "cell_type": "markdown",
      "source": [
        "Definimos el tamaño de la coladera con la cantidad de cuadros (pixeles) de esta, además de definir el porcentaje de obstrucción."
      ],
      "metadata": {
        "id": "4sRu77R1rx2q"
      }
    },
    {
      "cell_type": "code",
      "execution_count": null,
      "metadata": {
        "id": "Z5HhZjOR8216"
      },
      "outputs": [],
      "source": [
        "m = 10\n",
        "n = 10\n",
        "tot_vent = m * n\n",
        "prob_tap = 40"
      ]
    },
    {
      "cell_type": "markdown",
      "source": [
        "Generamos de forma aleatoria los números de los pixeles que representarán las partes obstruidas de la coladera."
      ],
      "metadata": {
        "id": "aoeTnbypro3o"
      }
    },
    {
      "cell_type": "code",
      "source": [
        "import random as rd\n",
        "\n",
        "cant_ven_tap = ((tot_vent) * prob_tap) / 100\n",
        "cont = 0\n",
        "ven_tap = []\n",
        "while cont <= (cant_ven_tap - 1):\n",
        "  num_prop = rd.randint(0, (tot_vent - 1))\n",
        "  if num_prop not in ven_tap:\n",
        "    ven_tap.append(num_prop)\n",
        "    cont += 1"
      ],
      "metadata": {
        "id": "UNYF3zs7-8hS"
      },
      "execution_count": null,
      "outputs": []
    },
    {
      "cell_type": "markdown",
      "source": [
        "Generamos un array con cada uno de los pixeles que representan a la coladera, tomando en cuenta los pixeles que estan obstruidos."
      ],
      "metadata": {
        "id": "IzeEEBfMrRM_"
      }
    },
    {
      "cell_type": "markdown",
      "source": [
        "Para poder hacer su representación visual correcta de los pixeles, se tomaron de la siguiente manera:\n",
        "\n",
        "Pixel = 0 --> Bloqueado\n",
        "\n",
        "Pixel = 1 --> Pasando agua\n",
        "\n",
        "Pixel = 2 --> Desbloqueado"
      ],
      "metadata": {
        "id": "iqqrSYf-2SWM"
      }
    },
    {
      "cell_type": "code",
      "source": [
        "import numpy as np\n",
        "col_ini = []\n",
        "countm = 0\n",
        "while countm <= (m - 1):\n",
        "  fila = []\n",
        "  countn = 0\n",
        "  while countn <= (n - 1):\n",
        "    num_ven = (countm * 10) + countn\n",
        "    if num_ven in ven_tap:\n",
        "      num = 0\n",
        "    else:\n",
        "      num = 2\n",
        "    fila.append(num)\n",
        "    countn += 1\n",
        "  col_ini.append(fila)\n",
        "  countm += 1\n",
        "\n",
        "col = np.array(col_ini)"
      ],
      "metadata": {
        "id": "PSX2q6g_FWaE"
      },
      "execution_count": null,
      "outputs": []
    },
    {
      "cell_type": "markdown",
      "source": [
        "Mostramos la coladera cuadrada con los taponamientos."
      ],
      "metadata": {
        "id": "LV-PDSlLrIJ1"
      }
    },
    {
      "cell_type": "code",
      "source": [
        "graficar(col)"
      ],
      "metadata": {
        "id": "huzgmGtKMIRu"
      },
      "execution_count": null,
      "outputs": []
    },
    {
      "cell_type": "markdown",
      "source": [
        "Comando para reiniciar, es decir, eliminar las celdas rojas y dejándolas en blanco nuevamente:"
      ],
      "metadata": {
        "id": "Bnq80NQeSdx3"
      }
    },
    {
      "cell_type": "code",
      "source": [
        "reiniciar(col, m)"
      ],
      "metadata": {
        "id": "S5_RwRDcRhwW"
      },
      "execution_count": null,
      "outputs": []
    },
    {
      "cell_type": "markdown",
      "source": [
        "Generamos una máquina de estados para poder buscar si la coladera percola, dándole prioridad al pixel (recuadro) de bajada, luego al de la derecha y finalmente al de la izquierda."
      ],
      "metadata": {
        "id": "aglXa9Z00sxm"
      }
    },
    {
      "cell_type": "markdown",
      "source": [
        "Al final arroja el resultado sobre si percola o no lo hace y va mostrando en tiempo real el recorrido del líquido, dejando al final el camino de percolación o el último camino que se siguió para determinar la no percolación."
      ],
      "metadata": {
        "id": "Rv8xc0011ceX"
      }
    },
    {
      "cell_type": "markdown",
      "source": [
        "Los estados son descritos dentro del código, como se muestra a continuación:"
      ],
      "metadata": {
        "id": "q6WXFY_l07bv"
      }
    },
    {
      "cell_type": "code",
      "source": [
        "import matplotlib.pyplot as plt\n",
        "\n",
        "result = 'Sin probar'\n",
        "countm = 0\n",
        "countn = 0\n",
        "estado = 0\n",
        "while countm <= (m - 1):\n",
        "  if (col[countm][countn] == 2) and (estado == 0): #Si se puede bajar.\n",
        "    col[countm][countn] = 1\n",
        "    countm += 1\n",
        "    graficar(col)\n",
        "    if countm == m:\n",
        "      result = 'Percola'\n",
        "  elif (col[countm][countn] == 1) and (estado == 0): #Si estas regresando de abajo hacia la primer fila, sigue hacia la derecha.\n",
        "    col[countm][countn] = 2\n",
        "    countn += 1\n",
        "    if countn == n:\n",
        "          result = 'No percola'\n",
        "          countm = m\n",
        "    graficar(col)\n",
        "  elif (col[countm][countn] == 0) and (estado == 0) and (countm == 0): #Si no se puede bajar al inicio, muevete a la derecha (Excepto si llegó al final, en ese momento se termina y no percola).\n",
        "    countn += 1\n",
        "    if countn == n:\n",
        "      result = 'No percola'\n",
        "      countm = m\n",
        "  elif (col[countm][countn] == 0) and (estado == 0) and (countm != 0): #Si no se puede bajar, regresa.\n",
        "    countm -= 1\n",
        "    if countm == 0:\n",
        "      estado = 0\n",
        "    else:\n",
        "      estado = 1\n",
        "  elif (col[countm][countn] != 0) and (estado == 1): #Si estas regresando de abajo, intenta a la derecha (Excepto cuando se llega al límite, entonces se va directo al estado 3).\n",
        "    countn += 1 \n",
        "    if countn > (n - 1):\n",
        "      countn -= 1\n",
        "      estado = 3\n",
        "    elif col[countm][countn] == 1:\n",
        "      countn -= 1\n",
        "      estado = 3\n",
        "    elif col[countm][countn] != 1:\n",
        "      estado = 2  \n",
        "  elif (col[countm][countn] == 0) and (estado == 2): #Si no se puede a la derecha, regresa (Excepto si llegó al final, en ese momento se termina y no percola).\n",
        "    countn -= 1\n",
        "    estado = 3\n",
        "    if (countn == (n - 1)) and (countm == 0):\n",
        "      result = 'No percola'\n",
        "      countm = m\n",
        "  elif (col[countm][countn] == 2) and (estado == 2): #Si se puede a la derecha, baja.\n",
        "    col[countm][countn] = 1\n",
        "    countm += 1\n",
        "    estado = 0\n",
        "    graficar(col)\n",
        "  elif (col[countm][countn] != 0) and (estado == 3): #Si estas regresando de la derecha (o si vienes de un límite derecho), intenta a la izquierda (Excepto cuando se llega al límite, entonces se va directo al estado 5).\n",
        "    countn -= 1\n",
        "    if countn < 0:\n",
        "      countn += 1\n",
        "      estado = 5\n",
        "    elif col[countm][countn] == 1:\n",
        "      countn += 1\n",
        "      estado = 5\n",
        "    elif col[countm][countn] != 1:\n",
        "      estado = 4\n",
        "  elif (col[countm][countn] == 0) and (estado == 4): #Si no se puede a la izquierda, regresa.\n",
        "    countn += 1\n",
        "    estado = 5\n",
        "  elif (col[countm][countn] == 2) and (estado == 4): #Si se puede a la izquierda, baja.\n",
        "    col[countm][countn] = 1\n",
        "    countm += 1\n",
        "    estado = 0\n",
        "    graficar(col)\n",
        "  elif (col[countm][countn] != 0) and (estado == 5): #Si estas regresando de la izquierda, regresa un paso anterior.\n",
        "    col[countm][countn] = 2\n",
        "    if (countn < (n - 1)) and (col[countm][countn + 1] == 1): #regresa hacia la derecha y repite el estado 5.\n",
        "      countn += 1\n",
        "    elif (countn > 0) and (col[countm][countn - 1] == 1): #regresa hacia la izquierda.\n",
        "        countn -= 1\n",
        "        if col[countm][countn - 1] != 1:\n",
        "          estado = 6\n",
        "    elif col[countm - 1][countn] == 1: #regresa hacia arriba.\n",
        "      countm -= 1\n",
        "      estado = 1\n",
        "      if countm == 0: #Si vas a regresar al inicio ve directo a la derecha\n",
        "        col[countm][countn] = 2\n",
        "        countn += 1\n",
        "        estado = 0\n",
        "        if countn == n:\n",
        "          result = 'No percola'\n",
        "          countm = m\n",
        "    graficar(col)\n",
        "  elif (col[countm][countn] != 0) and (estado == 6): #Si estas regresando desde la derecha, intenta a la izquierda (Excepto cuando se llega al límite, entonces se va directo al estado 5).\n",
        "    countn -= 1\n",
        "    estado = 4\n",
        "    if countn < 0:\n",
        "      countn += 1\n",
        "      estado = 5\n",
        "\n",
        "print(result)"
      ],
      "metadata": {
        "id": "GHU1_fgmK3TE"
      },
      "execution_count": null,
      "outputs": []
    },
    {
      "cell_type": "markdown",
      "source": [
        "Luego de diversas pruebas, colocamos todo en una sola función para utilizarla durante la búsqueda del porcentaje de percolación crítica (Quitamos la sección de graficar)."
      ],
      "metadata": {
        "id": "-u26YmjW6LBT"
      }
    },
    {
      "cell_type": "code",
      "source": [
        "def PruebaDePercolacion(Min, Nin, Prob):\n",
        "  m = Min\n",
        "  n = Nin\n",
        "  tot_vent = m * n\n",
        "  prob_tap = Prob\n",
        "\n",
        "  import random as rd\n",
        "\n",
        "  cant_ven_tap = ((tot_vent) * prob_tap) / 100\n",
        "  cont = 0\n",
        "  ven_tap = []\n",
        "  while cont <= (cant_ven_tap - 1):\n",
        "    num_prop = rd.randint(0, (tot_vent - 1))\n",
        "    if num_prop not in ven_tap:\n",
        "      ven_tap.append(num_prop)\n",
        "      cont += 1\n",
        "\n",
        "  import numpy as np\n",
        "  col_ini = []\n",
        "  countm = 0\n",
        "  while countm <= (m - 1):\n",
        "    fila = []\n",
        "    countn = 0\n",
        "    while countn <= (n - 1):\n",
        "      num_ven = (countm * 10) + countn\n",
        "      if num_ven in ven_tap:\n",
        "        num = 0\n",
        "      else:\n",
        "        num = 2\n",
        "      fila.append(num)\n",
        "      countn += 1\n",
        "    col_ini.append(fila)\n",
        "    countm += 1\n",
        "\n",
        "  col = np.array(col_ini)\n",
        "\n",
        "  import matplotlib.pyplot as plt\n",
        "\n",
        "  result = 'Sin probar'\n",
        "  countm = 0\n",
        "  countn = 0\n",
        "  estado = 0\n",
        "  while countm <= (m - 1):\n",
        "    if (col[countm][countn] == 2) and (estado == 0): #Si se puede bajar.\n",
        "      col[countm][countn] = 1\n",
        "      countm += 1\n",
        "      #graficar(col)\n",
        "      if countm == m:\n",
        "        result = 'Percola'\n",
        "    elif (col[countm][countn] == 1) and (estado == 0): #Si estas regresando de abajo hacia la primer fila, sigue hacia la derecha.\n",
        "      col[countm][countn] = 2\n",
        "      countn += 1\n",
        "      if countn == n:\n",
        "            result = 'No percola'\n",
        "            countm = m\n",
        "      #graficar(col)\n",
        "    elif (col[countm][countn] == 0) and (estado == 0) and (countm == 0): #Si no se puede bajar al inicio, muevete a la derecha (Excepto si llegó al final, en ese momento se termina y no percola).\n",
        "      countn += 1\n",
        "      if countn == n:\n",
        "        result = 'No percola'\n",
        "        countm = m\n",
        "    elif (col[countm][countn] == 0) and (estado == 0) and (countm != 0): #Si no se puede bajar, regresa.\n",
        "      countm -= 1\n",
        "      if countm == 0:\n",
        "        estado = 0\n",
        "      else:\n",
        "        estado = 1\n",
        "    elif (col[countm][countn] != 0) and (estado == 1): #Si estas regresando de abajo, intenta a la derecha (Excepto cuando se llega al límite, entonces se va directo al estado 3).\n",
        "      countn += 1 \n",
        "      if countn > (n - 1):\n",
        "        countn -= 1\n",
        "        estado = 3\n",
        "      elif col[countm][countn] == 1:\n",
        "        countn -= 1\n",
        "        estado = 3\n",
        "      elif col[countm][countn] != 1:\n",
        "        estado = 2  \n",
        "    elif (col[countm][countn] == 0) and (estado == 2): #Si no se puede a la derecha, regresa (Excepto si llegó al final, en ese momento se termina y no percola).\n",
        "      countn -= 1\n",
        "      estado = 3\n",
        "      if (countn == (n - 1)) and (countm == 0):\n",
        "        result = 'No percola'\n",
        "        countm = m\n",
        "    elif (col[countm][countn] == 2) and (estado == 2): #Si se puede a la derecha, baja.\n",
        "      col[countm][countn] = 1\n",
        "      countm += 1\n",
        "      estado = 0\n",
        "      #graficar(col)\n",
        "    elif (col[countm][countn] != 0) and (estado == 3): #Si estas regresando de la derecha (o si vienes de un límite derecho), intenta a la izquierda (Excepto cuando se llega al límite, entonces se va directo al estado 5).\n",
        "      countn -= 1\n",
        "      if countn < 0:\n",
        "        countn += 1\n",
        "        estado = 5\n",
        "      elif col[countm][countn] == 1:\n",
        "        countn += 1\n",
        "        estado = 5\n",
        "      elif col[countm][countn] != 1:\n",
        "        estado = 4\n",
        "    elif (col[countm][countn] == 0) and (estado == 4): #Si no se puede a la izquierda, regresa.\n",
        "      countn += 1\n",
        "      estado = 5\n",
        "    elif (col[countm][countn] == 2) and (estado == 4): #Si se puede a la izquierda, baja.\n",
        "      col[countm][countn] = 1\n",
        "      countm += 1\n",
        "      estado = 0\n",
        "      #graficar(col)\n",
        "    elif (col[countm][countn] != 0) and (estado == 5): #Si estas regresando de la izquierda, regresa un paso anterior.\n",
        "      col[countm][countn] = 2\n",
        "      if (countn < (n - 1)) and (col[countm][countn + 1] == 1): #regresa hacia la derecha y repite el estado 5.\n",
        "        countn += 1\n",
        "      elif (countn > 0) and (col[countm][countn - 1] == 1): #regresa hacia la izquierda.\n",
        "          countn -= 1\n",
        "          if col[countm][countn - 1] != 1:\n",
        "            estado = 6\n",
        "      elif col[countm - 1][countn] == 1: #regresa hacia arriba.\n",
        "        countm -= 1\n",
        "        estado = 1\n",
        "        if countm == 0: #Si vas a regresar al inicio ve directo a la derecha\n",
        "          col[countm][countn] = 2\n",
        "          countn += 1\n",
        "          estado = 0\n",
        "          if countn == n:\n",
        "            result = 'No percola'\n",
        "            countm = m\n",
        "      #graficar(col)\n",
        "    elif (col[countm][countn] != 0) and (estado == 6): #Si estas regresando desde la derecha, intenta a la izquierda (Excepto cuando se llega al límite, entonces se va directo al estado 5).\n",
        "      countn -= 1\n",
        "      estado = 4\n",
        "      if countn < 0:\n",
        "        countn += 1\n",
        "        estado = 5\n",
        "\n",
        "  return(result)"
      ],
      "metadata": {
        "id": "pRdS39Vl6Z2o"
      },
      "execution_count": null,
      "outputs": []
    },
    {
      "cell_type": "markdown",
      "source": [
        "Finalmente, diseñamos un apartado de código que se encarga de generar 100 pruebas por cada porcentaje de probabilidad de obstrucción, iniciando con un porcentaje de 0 e incrementandolo de 1 en 1. Se considera un entorno de colado de 10x10. El programa arrojará el porcentaje de umbral de percolación una vez se haya llegado al 100% de umbral o el procentaje de efectividad de las 100 pruebas arroje un umbral menor a el 80%. \n",
        "\n",
        "Además, en cada iteración, nos proporcionará el porcentaje de efectividad de las 100 pruebas con cada porcentaje de obstrucción."
      ],
      "metadata": {
        "id": "ghy_onr__Dat"
      }
    },
    {
      "cell_type": "code",
      "source": [
        "Porcentaje = 0\n",
        "porce_efect = 100\n",
        "while (Porcentaje <= 100) and (porce_efect >= 80):\n",
        "  NdP = 0\n",
        "  results = []\n",
        "  while NdP <= 99:\n",
        "    temporal_result = PruebaDePercolacion(10, 10, Porcentaje)\n",
        "    if temporal_result == 'No percola':\n",
        "      results.append(0)\n",
        "    else:\n",
        "      results.append(1)\n",
        "    NdP += 1\n",
        "  \n",
        "  porce_efect = sum(results)\n",
        "\n",
        "  Porcentaje_parcial = str(Porcentaje)\n",
        "  Porcentaje_efect_parcial = str(porce_efect)\n",
        "  print('Con un porcentaje de obstrucción del', Porcentaje_parcial + '%, nos da un porcentaje de efectividad del', Porcentaje_efect_parcial + '%.')\n",
        "\n",
        "  Porcentaje += 1\n",
        "\n",
        "Porcentaje_fin = str(Porcentaje - 2)\n",
        "\n",
        "print('La percolación crítica es igual a', Porcentaje_fin + '%.')"
      ],
      "metadata": {
        "id": "T2yquYFJ7UjD"
      },
      "execution_count": null,
      "outputs": []
    }
  ]
}